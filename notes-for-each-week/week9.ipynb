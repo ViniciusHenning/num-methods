{
 "cells": [
  {
   "cell_type": "markdown",
   "metadata": {},
   "source": [
    "# Week 09 The Spectral Element Method - 1D Elastic Wave Equation, Convergence Test\n",
    "\n",
    "###  Lagrange Derivative - Legendre Polynomials\n",
    "\n",
    "Starting from our stiffness matrix at the local domain, we have\n",
    "\n",
    "$$\n",
    "    K_{ij}^\\mathrm{e} = \\int_{-1}^{1}\\mathrm{d}\\xi \\mu(\\xi) \n",
    "        \\partial_\\xi \\ell_i(\\xi)\\partial_\\xi \\ell_j(\\xi)\\frac{d\\xi}{dx}\\,.\n",
    "$$\n",
    "\n",
    "Using numerical integration scheme that we have developed this integral\n",
    "can be turned into a sum with weights $w_k$, as follows\n",
    "\n",
    "$$\n",
    "    K_{ij}^\\mathrm{e} \\sum_{k=1}^{N+1} w_k \\mu(\\xi) \n",
    "        \\partial_\\xi \\ell_i(\\xi)\\partial_\\xi \\ell_j(\\xi)\\frac{d\\xi}{dx}\\Bigg\\vert_{\\xi=\\xi_k}\\,.\n",
    "$$\n",
    "\n",
    "- The derivatives are given exactly in terms of the Legendre Polynomials as shown in the class."
   ]
  },
  {
   "cell_type": "markdown",
   "metadata": {},
   "source": [
    "$$\n",
    "    K_{ij}^\\mathrm{e} \\sum_{k=1}^{N+1} w_k \\mu(\\xi) \n",
    "        \\partial_\\xi \\ell_i(\\xi)\\partial_\\xi \\ell_j(\\xi)\\frac{d\\xi}{dx}\\Bigg\\vert_{\\xi=\\xi_k}\\,.\n",
    "$$"
   ]
  },
  {
   "cell_type": "markdown",
   "metadata": {},
   "source": [
    "- This was essentially the end of the course. "
   ]
  }
 ],
 "metadata": {
  "kernelspec": {
   "display_name": "Python 3",
   "language": "python",
   "name": "python3"
  },
  "language_info": {
   "codemirror_mode": {
    "name": "ipython",
    "version": 3
   },
   "file_extension": ".py",
   "mimetype": "text/x-python",
   "name": "python",
   "nbconvert_exporter": "python",
   "pygments_lexer": "ipython3",
   "version": "3.7.6"
  }
 },
 "nbformat": 4,
 "nbformat_minor": 4
}
