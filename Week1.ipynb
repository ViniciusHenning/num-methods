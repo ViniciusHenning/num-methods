{
 "cells": [
  {
   "cell_type": "markdown",
   "metadata": {},
   "source": [
    "# Introduction and week #1"
   ]
  },
  {
   "cell_type": "markdown",
   "metadata": {},
   "source": [
    "The first week will cover some interesting points like:<br>\n",
    "-discretization<br>\n",
    "-computational meshes and grids<br>\n",
    "-parallel computing<br>\n",
    "-introduction to python and jupyter<br>\n",
    "\n",
    "The application of the finite difference method starts only in the week #2.<br>\n",
    "So we will basically have a review of some stuff this week."
   ]
  },
  {
   "cell_type": "markdown",
   "metadata": {},
   "source": [
    "### Introduction to spatial scales and meshing"
   ]
  },
  {
   "cell_type": "markdown",
   "metadata": {},
   "source": [
    "So the motivation is rather straightforward, since we need to discretize\n",
    "the waves for a given physical phenomena properly. For the example of considering\n",
    "a sismic wave we have the frequency $f\\simeq 1 Hz$ and the speed is $v\\simeq 3 km/s \\simeq 10^4 km/h$. Consequently, the wavelength associated is $\\lambda \\simeq 3km$.<br>\n",
    "Supposing that we want to discretize this wave with **10 grid points per wavelength** (assuming that we are looking at a single Fourier component).<br>\n",
    "**1)** How should we discretize the Earth if we want to describe wave scattering problems\n",
    "associated to this kind of wave?\n"
   ]
  },
  {
   "cell_type": "markdown",
   "metadata": {},
   "source": [
    "Since the wavelength is $\\lambda \\simeq 3km$, the space between each grid point is $0.3km$.\n",
    "The volume associated to each grid cube is $V_g = 0.027 km^3$ and the volume of Earth is $V_E  \\simeq 8,12 \\times 10^{11} km^3$. Therefore, we need a total of $N = 3\\times 10^{13}$ to discretize the entire Earth.\n",
    "\n",
    "Double precision number uses $64$ bits, or $8$ bytes (B) , of memory to stores it. Consequently, if we want to store the information of the field described above propagating on Earth, we would need $8 \\text{B} \\times 3\\times 10^{13} = 32\\text{TB}$ to describe it. So, we see that is required a **huge** amount of memory to describe it properly and that is the reason why parallel computing is useful, because would allow us to solve part of this issue. However, during most part of the course would use 1D, at best 2D problems."
   ]
  },
  {
   "cell_type": "markdown",
   "metadata": {},
   "source": [
    "### Meshes\n",
    "\n",
    "For the 1D problem there is not too much to talk about. But when one considers the two\n",
    "dimensional problem, different Meshes (or discretization) can be used. For example, maybe depending on the curve that you want to \"capture\", the square regular discretization is not the best one to be used. Maybe using one with triangles would allow to encompass better the curve that you want to describe. But from a mathematical computational point of view that could be unnecessary.\n",
    "\n",
    "An approach which could help in this situation is the so called *octree* approach, where you increase the number of meshes/grids in the area of interest. There are several ways to handle complex geometries, generally more complicated and envolving meshes have to be used. Therefore, the part related to finding a good or better meshes for the discretization is a problem by itself.\n",
    "\n",
    "When one considers a single Fourier component, a crucial question to be answered is: *how many grid points do we need per wavelength for a particular method?*<br>\n",
    "This is called a *grid method* where we simply take a given number of grid points.\n",
    "\n",
    "The finite element method you divide up the spatial domain into elements, and inside these elements, one approaches it with a linear function connecting these points. By this approximation we know the wave field in all points, despite of not having a perfect match between the approximation and the sinusoidal field at all values. Since we have information about the field in all values, it is different to the finite difference method, where one knows the values only at specific points."
   ]
  },
  {
   "cell_type": "markdown",
   "metadata": {},
   "source": [
    "### Acoustic wave equation\n",
    "\n",
    "The wave equation without sources is given by\n",
    "\n",
    "$$\\partial_t^2p(x,t) = c(x)^2\\partial_x^2p(x,t)\\quad (1)\\,,$$\n",
    "\n",
    "where we have assumed that in a more general case the speed of the wave $c$ can have different values at different points. In the case where it has a constant throughout\n",
    "the entire space it will be defined as $c_0$. In this case we can have simple analytical solutions.\n",
    "\n",
    "For example, suppose a plane-wave solution like $p = p_0e^{i(kx -\\omega t)}$. It is a solution if the dispersion related is satisfied\n",
    "\n",
    "$$\\omega = c k$$\n",
    "\n",
    "Another kind of equation that we are going to solve along the course is the equation for\n",
    "the pressure, for example, which is governed by the following equation\n",
    "\n",
    "$$ \\partial_t P + c\\partial_x P = 0\\quad (2)\\,.$$\n",
    "\n",
    "With respect to coefficients in our differential equation, we can analyze the discriminant and classify it. Assuming the follow decomposition\n",
    "\n",
    "\\begin{equation}\n",
    "Ap_{xx} + Bp_{xt} + Cp_{tt} + Dp_x +Ep_t + Fp\\quad =0 \\quad (3)\\,,\n",
    "\\end{equation}\n",
    "\n",
    "we have in our equation $A = c^2$, $C = -1$ and $B=0$. Consequently we have\n",
    "$0-4c^2(-1) > 0$, which turns out to be\n",
    "\n",
    "\\begin{equation}\n",
    "B² - 4AC > 0\\quad (4)\\,,\n",
    "\\end{equation}\n",
    "\n",
    "and therefore our equation is a hyperbolic differential equation."
   ]
  },
  {
   "cell_type": "markdown",
   "metadata": {},
   "source": [
    "### Parallel computing"
   ]
  },
  {
   "cell_type": "markdown",
   "metadata": {},
   "source": [
    "Essentially an overview of different ways that a computer can work for solving a problem numerically"
   ]
  },
  {
   "cell_type": "markdown",
   "metadata": {},
   "source": [
    "### A bit of wave Physics\n",
    "\n",
    "-Analytical solution for the case where there is no source.\n",
    "-The source being a delta function, i.e.,\n",
    "$$ \\partial_t^2p(x,y) = c^2\\partial_x^2p(x,y)  + s(x,t)$$\n",
    "\n",
    "The impulse response is th Green's function of the differential equation and it\n",
    "is obtained when the source is like\n",
    "\n",
    "$$ s(x,t) = \\delta(x-x_0)\\delta(t-t_0)$$\n",
    "\n",
    "For homogeneous media, c(x,t) \\equiv c_0, we can use it to compare our numerical\n",
    "to analytical results.\n",
    "\n",
    "Another similar equation (but instead of longitudinal waves, one has transverse ones)\n",
    "is the equation for the amplitude of oscillation of a guitar string, for instance.\n",
    "The equation is\n",
    "\n",
    "$$\\rho \\partial_t^2u_y = \\partial_x\\big(\\mu\\partial_xu_y\\big) + f_y\\,,$$\n",
    "where $\\rho$ is the density, $\\mu$ is the shear modulus (related to the stifness),\n",
    "$f_y$ it is a kind of source term and $u_y$ is the amplitude along the $y-$direction.\n",
    "\n",
    "Assuming a homogeneous medium, one has\n",
    "\n",
    "$$\\partial_t^2u_y = \\frac{\\mu}{\\rho}\\partial_x^2u_y + f_y\\,,$$\n",
    "and it is identical to the former equation with $c \\equiv \\sqrt{\\mu/\\rho}$\n",
    "\n",
    "**Time reversal symmetry**\n",
    "He discuss a very nice and simple example and discuss\n",
    "about its aplicabillity in medical tomography. if one has a source point, which\n",
    "radiates electromagnetic fields and one has a bunch of detectors on a circle around\n",
    "the emitter, one could invert the emitters and make them radiate, they would focus\n",
    "on the spatial location of the source point.\n",
    "\n",
    "**Structural heterogeneities**\n",
    "This is related to the fact that the quantities $c,\\mu$ and $\\rho$ can vary depending\n",
    "on the spatial point that one is looking at.\n",
    "\n",
    "Supposing a homogeneous medium, the pressure (longitudinal wave) equation has\n",
    "an analytical solution by means of the Green's function. Numerically, we have\n",
    "the issue that since we are solving for a delta function in time, we have infinity\n",
    "frequencies involved and can't solve the problem for infinity frequencies, we will\n",
    "always have a band limited solution to the Green's function. However, we can do the\n",
    "convolution between the Green's function and the source to obtain the result.\n",
    "The Green's function acts like a propagator for the problem.\n",
    "\n",
    "The main point is that the numerical Green's function is not a Heaviside function,\n",
    "whereas the analytical one is. The numerical version of it contains some oscillations,\n",
    "nevertheless, working with it and the source, one could obtain the correct result by \n",
    "a filtering process."
   ]
  },
  {
   "cell_type": "markdown",
   "metadata": {},
   "source": [
    "### Python and Jupyter notebooks\n",
    "\n",
    "Playing around with Jupyter notebook and some Python libraries"
   ]
  },
  {
   "cell_type": "code",
   "execution_count": 1,
   "metadata": {},
   "outputs": [],
   "source": [
    "import numpy as np\n",
    "import matplotlib.pyplot as plt\n",
    "\n",
    "x = np.linspace(0,2*np.pi,1000)"
   ]
  },
  {
   "cell_type": "code",
   "execution_count": 4,
   "metadata": {},
   "outputs": [
    {
     "data": {
      "image/png": "[encoded data removed]",
      "text/plain": [
       "<Figure size 432x288 with 1 Axes>"
      ]
     },
     "metadata": {
      "needs_background": "light"
     },
     "output_type": "display_data"
    }
   ],
   "source": [
    "k = 2\n",
    "\n",
    "plt.plot(x,np.sin(k*x))\n",
    "plt.show()"
   ]
  },
  {
   "cell_type": "markdown",
   "metadata": {},
   "source": [
    "### Exercise #3"
   ]
  },
  {
   "cell_type": "markdown",
   "metadata": {},
   "source": [
    "$c = 1490 m/s\\\\\n",
    "f = 10 kHz\\\\\n",
    "g=20 \\text{ grid points per wavelenght}\\\\\n",
    "Volume\\, (V) = 10^5m$\n",
    "\n",
    "Supposing a regular spatial grid\n",
    "\n",
    "She will need\n",
    "\n",
    "$\\frac{V. g}{\\lambda^3} $"
   ]
  },
  {
   "cell_type": "code",
   "execution_count": 2,
   "metadata": {},
   "outputs": [
    {
     "name": "stdout",
     "output_type": "stream",
     "text": [
      "1934733576605.9272\n"
     ]
    }
   ],
   "source": [
    "c = 1490\n",
    "f = 2*10**4\n",
    "wl = c/f\n",
    "volume = 10*100*100\n",
    "grid_points_volume = 20**3\n",
    "\n",
    "print ((20**3)*volume/(wl**3))"
   ]
  },
  {
   "cell_type": "markdown",
   "metadata": {},
   "source": [
    "### The result above gives $\\approx 2,42.10^{11}$, however the answer seems to be $10^9$ instead"
   ]
  },
  {
   "cell_type": "markdown",
   "metadata": {},
   "source": [
    "### Exercise #4\n",
    "\n",
    "The lower half of the basin is filled with sand and the speed of sound increases\n",
    "to $3.10^3m/s$ at this half. Since the speed is twice bigger, the wavelength would\n",
    "multiplied by two as well. Consequently the half part filled with water is described\n",
    "by $1,21.10^{11}$ grid points and the part with sand is described by a smaller amount\n",
    "of grid points, since the wavelength is bigger. This conversion is easy to be done\n",
    "since we only need to divide the other remaining part by $8$, which is $0,15.10^{11}$\n",
    "grid points.\n",
    "\n",
    "Since we use one 8byte to describe each point, we would need roughly $1,36.10^{11}Bytes$.\n"
   ]
  },
  {
   "cell_type": "code",
   "execution_count": 1,
   "metadata": {},
   "outputs": [
    {
     "name": "stdout",
     "output_type": "stream",
     "text": [
      "8687082454571.856\n"
     ]
    }
   ],
   "source": [
    "c_water = 1490\n",
    "f = 2*10**4\n",
    "wl_water = c_water/f\n",
    "\n",
    "c_sand = 3000\n",
    "wl_sand = c_sand/f\n",
    "\n",
    "vol = 5*100*100\n",
    "\n",
    "vol_grid_water = (wl_water/20)**3\n",
    "vol_grid_sand = (wl_sand/20)**3\n",
    "\n",
    "points_water = vol/vol_grid_water\n",
    "points_sand = vol/vol_grid_sand\n",
    "\n",
    "print ((points_water + points_sand)*8)"
   ]
  },
  {
   "cell_type": "code",
   "execution_count": 38,
   "metadata": {},
   "outputs": [
    {
     "data": {
      "text/plain": [
       "8.162157276306253"
      ]
     },
     "execution_count": 38,
     "metadata": {},
     "output_type": "execute_result"
    }
   ],
   "source": [
    "points_water/points_sand #order of TB"
   ]
  },
  {
   "cell_type": "code",
   "execution_count": null,
   "metadata": {},
   "outputs": [],
   "source": []
  }
 ],
 "metadata": {
  "kernelspec": {
   "display_name": "Python 3",
   "language": "python",
   "name": "python3"
  },
  "language_info": {
   "codemirror_mode": {
    "name": "ipython",
    "version": 3
   },
   "file_extension": ".py",
   "mimetype": "text/x-python",
   "name": "python",
   "nbconvert_exporter": "python",
   "pygments_lexer": "ipython3",
   "version": "3.7.6"
  }
 },
 "nbformat": 4,
 "nbformat_minor": 4
}
