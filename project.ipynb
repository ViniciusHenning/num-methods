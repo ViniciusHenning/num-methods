{
 "cells": [
  {
   "cell_type": "markdown",
   "metadata": {},
   "source": [
    "# Final personal project of the numerical methods in wave phenomena"
   ]
  },
  {
   "cell_type": "markdown",
   "metadata": {},
   "source": [
    "This notebook aims to show part of the skills acquired in numerical methods and playing with simulations in matplotlib in some problem which interests me. Right now I envision two different problems to be considered and one of them will be carried out entirely:\n",
    "- **Frustrated refraction**: this is a well known optical phenomena where one has two glasses, for instance, separated by vacuum. Supposing that there is a plane wave coming from the left to the right, for certain separations $d$ between the two glasses, there is no light passing from one glass to the other. However at some point a light beam suddenly appears as a propagating mode across vacuum in the second glass in the left. It happens because the we are going from an optical denser media to a less dense one and there is a evanescent wave at the boundaries. When the tail of this evanescent mode touches the boundary of the other media it is turned into a propagating mode in the second glass. One of the ideas would be to make a simulation of this phenomena.\n",
    "\n",
    "- **Invisibility cloaking**: it is essentially a Harry Potter cloak which can make an object invisible. There are different ways of achieving this. One of them is using metamaterials, where the metamaterial coating the object  is responsible for bending the light around the object, consequently, since there is no scattering, the object is invisible. Another way of doing so is cancelling the scattering due to the object. A simple way to understand that is thinking that the object within the small size parameter limit can be described by a dipole pointing upwards. This object to be invisible must be coated with an object which upon scattering behaves like a dipole pointing downwards. Consequently, the fields (under certain conditions) would cancel out and no light would be observed and the object for all efects would be invisible."
   ]
  },
  {
   "cell_type": "code",
   "execution_count": null,
   "metadata": {},
   "outputs": [],
   "source": []
  }
 ],
 "metadata": {
  "kernelspec": {
   "display_name": "Python 3",
   "language": "python",
   "name": "python3"
  },
  "language_info": {
   "codemirror_mode": {
    "name": "ipython",
    "version": 3
   },
   "file_extension": ".py",
   "mimetype": "text/x-python",
   "name": "python",
   "nbconvert_exporter": "python",
   "pygments_lexer": "ipython3",
   "version": "3.7.6"
  }
 },
 "nbformat": 4,
 "nbformat_minor": 4
}
